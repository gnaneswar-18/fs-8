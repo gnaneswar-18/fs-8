{
  "nbformat": 4,
  "nbformat_minor": 0,
  "metadata": {
    "colab": {
      "provenance": [],
      "mount_file_id": "1_oicow3rjhibK8GssIuCAMgRV0nI29CE",
      "authorship_tag": "ABX9TyPyFmn5P4zjT15SXi8KAYp1",
      "include_colab_link": true
    },
    "kernelspec": {
      "name": "python3",
      "display_name": "Python 3"
    },
    "language_info": {
      "name": "python"
    }
  },
  "cells": [
    {
      "cell_type": "markdown",
      "metadata": {
        "id": "view-in-github",
        "colab_type": "text"
      },
      "source": [
        "<a href=\"https://colab.research.google.com/github/gnaneswar-18/fs-8/blob/main/fs_8.ipynb\" target=\"_parent\"><img src=\"https://colab.research.google.com/assets/colab-badge.svg\" alt=\"Open In Colab\"/></a>"
      ]
    },
    {
      "cell_type": "code",
      "source": [
        "import pandas as pd;\n",
        "from sklearn.preprocessing import LabelEncoder\n",
        "data=pd.read_csv('/content/drive/MyDrive/Copy of melbourne_housing_raw.csv')\n",
        "from sklearn import preprocessing\n",
        "label_encoder = preprocessing.LabelEncoder()\n",
        "for column in data.keys():\n",
        "  if data[column].dtype == 'object':\n",
        "    data[column] = label_encoder.fit_transform(data[column])\n"
      ],
      "metadata": {
        "id": "BMYcumHL_Orh"
      },
      "execution_count": null,
      "outputs": []
    },
    {
      "cell_type": "code",
      "source": [
        "x=data.drop('Propertycount',axis=1)\n",
        "y=data['Propertycount']\n",
        "print(x.shape)\n",
        "print(y.shape)\n",
        "if y.isnull().any():\n",
        "    y = y.dropna()\n",
        "    x = x.loc[y.index]\n",
        "print(x.shape)\n",
        "print(y.shape)"
      ],
      "metadata": {
        "id": "3HvEsRYjaXxs",
        "colab": {
          "base_uri": "https://localhost:8080/"
        },
        "outputId": "32f09167-ad08-4532-fda9-ba43bdee3f57"
      },
      "execution_count": null,
      "outputs": [
        {
          "output_type": "stream",
          "name": "stdout",
          "text": [
            "(34857, 19)\n",
            "(34857,)\n",
            "(34854, 19)\n",
            "(34854,)\n"
          ]
        }
      ]
    },
    {
      "cell_type": "code",
      "source": [
        "from sklearn.model_selection import train_test_split\n",
        "from sklearn.linear_model import LinearRegression\n",
        "from sklearn.metrics import mean_absolute_error\n",
        "\n",
        "def evaluate_model(x_train, x_test, y_train, y_test):\n",
        "    model = LinearRegression()\n",
        "    model.fit(x_train, y_train)\n",
        "    y_pred = model.predict(x_test)\n",
        "    return mean_absolute_error(y_test, y_pred)"
      ],
      "metadata": {
        "id": "XuRMjYcrNvx4"
      },
      "execution_count": null,
      "outputs": []
    },
    {
      "cell_type": "code",
      "source": [
        "def forward_feature_selection(x_train, x_test, y_train, y_test):\n",
        "    selected_features = []\n",
        "    remaining_features = list(x_train.columns)\n",
        "    best_mae = float('inf')\n",
        "    mae_progression = []\n",
        "\n",
        "    while remaining_features:\n",
        "        mae_candidates = {}\n",
        "        for feature in remaining_features:\n",
        "            current_features = selected_features + [feature]\n",
        "            mae = evaluate_model(x_train[current_features], x_test[current_features], y_train, y_test)\n",
        "            mae_candidates[feature] = mae\n",
        "        best_feature = min(mae_candidates, key=mae_candidates.get)\n",
        "        best_feature_mae = mae_candidates[best_feature]\n",
        "\n",
        "        if best_feature_mae < best_mae:\n",
        "            selected_features.append(best_feature)\n",
        "            remaining_features.remove(best_feature)\n",
        "            best_mae = best_feature_mae\n",
        "            mae_progression.append(best_mae)\n",
        "            print(f\"Selected feature: {best_feature}, MAE: {best_feature_mae}\")\n",
        "        else:\n",
        "            break\n",
        "\n",
        "    return selected_features, mae_progression\n",
        "\n"
      ],
      "metadata": {
        "id": "V8RzKHMtR8PW"
      },
      "execution_count": null,
      "outputs": []
    },
    {
      "cell_type": "code",
      "source": [
        "x_dropped = x.dropna()\n",
        "x_train, x_test, y_train, y_test = train_test_split(x_dropped, y[x_dropped.index], test_size=0.3, random_state=42)\n",
        "selected_features, mae_progression = forward_feature_selection(x_train, x_test, y_train, y_test)\n",
        "\n",
        "print(f\"Optimal set of features: {selected_features}\")\n",
        "print(f\"MAE progression: {mae_progression}\")\n",
        "\n",
        "final_mae = evaluate_model(x_train, x_test, y_train, y_test)\n",
        "print(f\" MAE with all features: {final_mae}\")\n",
        "final_mae = evaluate_model(x_train[selected_features], x_test[selected_features], y_train, y_test)\n",
        "print(f\"Final MAE with selected features: {final_mae}\")"
      ],
      "metadata": {
        "id": "nQe-mkRjR9_1",
        "outputId": "8166fc70-2175-4cac-fdcd-29655d9051fa",
        "colab": {
          "base_uri": "https://localhost:8080/"
        }
      },
      "execution_count": null,
      "outputs": [
        {
          "output_type": "stream",
          "name": "stdout",
          "text": [
            "Selected feature: Regionname, MAE: 3419.9371552030493\n",
            "Selected feature: Type, MAE: 3388.3608408268474\n",
            "Selected feature: Postcode, MAE: 3386.325435298081\n",
            "Selected feature: Bathroom, MAE: 3383.149568388873\n",
            "Selected feature: Distance, MAE: 3381.806063508436\n",
            "Selected feature: Date, MAE: 3381.559820194518\n",
            "Optimal set of features: ['Regionname', 'Type', 'Postcode', 'Bathroom', 'Distance', 'Date']\n",
            "MAE progression: [3419.9371552030493, 3388.3608408268474, 3386.325435298081, 3383.149568388873, 3381.806063508436, 3381.559820194518]\n",
            " MAE with all features: 3462.358899620885\n",
            "Final MAE with selected features: 3381.559820194518\n"
          ]
        }
      ]
    }
  ]
}